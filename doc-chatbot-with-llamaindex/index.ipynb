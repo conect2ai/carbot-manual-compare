{
 "cells": [
  {
   "cell_type": "code",
   "execution_count": null,
   "metadata": {},
   "outputs": [],
   "source": [
    "!pip install llama_index"
   ]
  },
  {
   "cell_type": "code",
   "execution_count": null,
   "metadata": {},
   "outputs": [],
   "source": [
    "!pip install python-dotenv"
   ]
  },
  {
   "cell_type": "code",
   "execution_count": null,
   "metadata": {},
   "outputs": [],
   "source": [
    "!pip install --upgrade sqlalchemy"
   ]
  },
  {
   "cell_type": "code",
   "execution_count": 21,
   "metadata": {},
   "outputs": [],
   "source": [
    "import os\n",
    "import openai\n",
    "from dotenv import load_dotenv\n",
    "\n",
    "load_dotenv()\n",
    "\n",
    "# Now you can access the OpenAI API key using the environment variable:\n",
    "openai.api_key = os.environ[\"OPENAI_API_KEY\"]"
   ]
  },
  {
   "cell_type": "code",
   "execution_count": 22,
   "metadata": {},
   "outputs": [],
   "source": [
    "from llama_index import SimpleDirectoryReader\n",
    "from llama_index import download_loader\n",
    "\n",
    "# Downloads the document to be used in the chatbot\n",
    "SimpleDirectoryReader = download_loader(\"SimpleDirectoryReader\")\n",
    "loader = SimpleDirectoryReader('./data', recursive=True, exclude_hidden=True)\n",
    "documents = loader.load_data()"
   ]
  },
  {
   "cell_type": "code",
   "execution_count": 23,
   "metadata": {},
   "outputs": [],
   "source": [
    "# Import necessary classes from the LlamaIndex library\n",
    "from llama_index import LLMPredictor, GPTVectorStoreIndex, PromptHelper, ServiceContext\n",
    "# Import to OpenAI class from langchain library\n",
    "from langchain import OpenAI\n",
    "\n",
    "# Defines the language model for the LLMPredictor\n",
    "# In this case, it is an OpenAI template with temperature 0 and name \"text-davinci-003\".\n",
    "llm_predictor = LLMPredictor(llm=OpenAI(temperature=0, model_name=\"text-davinci-003\"))"
   ]
  },
  {
   "cell_type": "code",
   "execution_count": 24,
   "metadata": {},
   "outputs": [],
   "source": [
    "context_window = 4096\n",
    "num_output = 256\n",
    "max_chunk_overlap_ratio = 0.2\n",
    "separator = \"\\n\"\n",
    "prompt_helper = PromptHelper(context_window, num_output, \n",
    "                             max_chunk_overlap_ratio, \n",
    "                             separator=separator)"
   ]
  },
  {
   "cell_type": "code",
   "execution_count": 25,
   "metadata": {},
   "outputs": [],
   "source": [
    "# Defines the ServiceContext to encapsulate the prediction and prompt logic\n",
    "service_context = ServiceContext.from_defaults(llm_predictor=llm_predictor, prompt_helper=prompt_helper)\n",
    "\n",
    "# Creates a GPTSimpleVectorIndex from the documents to be indexed\n",
    "# Uses LLMPredictor text prediction to create a simple vector representation of the documents\n",
    "# Uses the ServiceContext to encapsulate the prediction and prompt logic\n",
    "index = GPTVectorStoreIndex.from_documents(\n",
    "    documents, service_context=service_context\n",
    ")"
   ]
  },
  {
   "cell_type": "code",
   "execution_count": 26,
   "metadata": {},
   "outputs": [
    {
     "name": "stdout",
     "output_type": "stream",
     "text": [
      "Tokens Used: 1033\n",
      "\tPrompt Tokens: 978\n",
      "\tCompletion Tokens: 55\n",
      "Successful Requests: 1\n",
      "Total Cost (USD): $0.02066\n"
     ]
    }
   ],
   "source": [
    "from langchain.callbacks import get_openai_callback\n",
    "\n",
    "# Creates the query engine\n",
    "query_engine = index.as_query_engine()\n",
    "\n",
    "# Make the query using the example query string\n",
    "with get_openai_callback() as cb:\n",
    "    query_str = \"How can I open the tailgate?\"\n",
    "    response = query_engine.query(query_str)\n",
    "    print(cb)\n"
   ]
  },
  {
   "cell_type": "code",
   "execution_count": 27,
   "metadata": {},
   "outputs": [
    {
     "name": "stdout",
     "output_type": "stream",
     "text": [
      "\n",
      "To open the liftgate, press the button located in the top of the liftgate pull cup handle to unlatch the liftgate, then pull on the outside handle. You can also open the liftgate with the remote control by pressing the button twice within three seconds.\n"
     ]
    }
   ],
   "source": [
    "formatted_response = response.response.replace('\\n\\n', '\\n')\n",
    "print(formatted_response)"
   ]
  },
  {
   "cell_type": "code",
   "execution_count": null,
   "metadata": {},
   "outputs": [],
   "source": []
  }
 ],
 "metadata": {
  "interpreter": {
   "hash": "ac59ebe37160ed0dfa835113d9b8498d9f09ceb179beaac4002f036b9467c963"
  },
  "kernelspec": {
   "display_name": "Python 3.9.2 64-bit",
   "name": "python3"
  },
  "language_info": {
   "codemirror_mode": {
    "name": "ipython",
    "version": 3
   },
   "file_extension": ".py",
   "mimetype": "text/x-python",
   "name": "python",
   "nbconvert_exporter": "python",
   "pygments_lexer": "ipython3",
   "version": "3.9.0"
  },
  "orig_nbformat": 4
 },
 "nbformat": 4,
 "nbformat_minor": 2
}
